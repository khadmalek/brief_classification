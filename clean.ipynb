{
 "cells": [
  {
   "cell_type": "code",
   "execution_count": 1,
   "metadata": {},
   "outputs": [],
   "source": [
    "import pandas as pd\n",
    "import numpy as np\n",
    "from matplotlib import pyplot as plt\n",
    "import seaborn as sns\n",
    "from scipy.stats import chi2_contingency\n",
    "\n",
    "import missingno as msno\n"
   ]
  },
  {
   "cell_type": "code",
   "execution_count": 2,
   "metadata": {},
   "outputs": [
    {
     "name": "stderr",
     "output_type": "stream",
     "text": [
      "/var/folders/s4/wkdjj13x2635cdbxl0dx7yv00000gn/T/ipykernel_45891/762392744.py:1: DtypeWarning: Columns (9) have mixed types. Specify dtype option on import or set low_memory=False.\n",
      "  df = pd.read_csv(\"SBAnational.csv\")\n"
     ]
    },
    {
     "name": "stdout",
     "output_type": "stream",
     "text": [
      "(899164, 27)\n"
     ]
    },
    {
     "data": {
      "text/html": [
       "<div>\n",
       "<style scoped>\n",
       "    .dataframe tbody tr th:only-of-type {\n",
       "        vertical-align: middle;\n",
       "    }\n",
       "\n",
       "    .dataframe tbody tr th {\n",
       "        vertical-align: top;\n",
       "    }\n",
       "\n",
       "    .dataframe thead th {\n",
       "        text-align: right;\n",
       "    }\n",
       "</style>\n",
       "<table border=\"1\" class=\"dataframe\">\n",
       "  <thead>\n",
       "    <tr style=\"text-align: right;\">\n",
       "      <th></th>\n",
       "      <th>LoanNr_ChkDgt</th>\n",
       "      <th>Name</th>\n",
       "      <th>City</th>\n",
       "      <th>State</th>\n",
       "      <th>Zip</th>\n",
       "      <th>Bank</th>\n",
       "      <th>BankState</th>\n",
       "      <th>NAICS</th>\n",
       "      <th>ApprovalDate</th>\n",
       "      <th>ApprovalFY</th>\n",
       "      <th>...</th>\n",
       "      <th>RevLineCr</th>\n",
       "      <th>LowDoc</th>\n",
       "      <th>ChgOffDate</th>\n",
       "      <th>DisbursementDate</th>\n",
       "      <th>DisbursementGross</th>\n",
       "      <th>BalanceGross</th>\n",
       "      <th>MIS_Status</th>\n",
       "      <th>ChgOffPrinGr</th>\n",
       "      <th>GrAppv</th>\n",
       "      <th>SBA_Appv</th>\n",
       "    </tr>\n",
       "  </thead>\n",
       "  <tbody>\n",
       "    <tr>\n",
       "      <th>0</th>\n",
       "      <td>1000014003</td>\n",
       "      <td>ABC HOBBYCRAFT</td>\n",
       "      <td>EVANSVILLE</td>\n",
       "      <td>IN</td>\n",
       "      <td>47711</td>\n",
       "      <td>FIFTH THIRD BANK</td>\n",
       "      <td>OH</td>\n",
       "      <td>451120</td>\n",
       "      <td>28-Feb-97</td>\n",
       "      <td>1997</td>\n",
       "      <td>...</td>\n",
       "      <td>N</td>\n",
       "      <td>Y</td>\n",
       "      <td>NaN</td>\n",
       "      <td>28-Feb-99</td>\n",
       "      <td>$60,000.00</td>\n",
       "      <td>$0.00</td>\n",
       "      <td>P I F</td>\n",
       "      <td>$0.00</td>\n",
       "      <td>$60,000.00</td>\n",
       "      <td>$48,000.00</td>\n",
       "    </tr>\n",
       "    <tr>\n",
       "      <th>1</th>\n",
       "      <td>1000024006</td>\n",
       "      <td>LANDMARK BAR &amp; GRILLE (THE)</td>\n",
       "      <td>NEW PARIS</td>\n",
       "      <td>IN</td>\n",
       "      <td>46526</td>\n",
       "      <td>1ST SOURCE BANK</td>\n",
       "      <td>IN</td>\n",
       "      <td>722410</td>\n",
       "      <td>28-Feb-97</td>\n",
       "      <td>1997</td>\n",
       "      <td>...</td>\n",
       "      <td>N</td>\n",
       "      <td>Y</td>\n",
       "      <td>NaN</td>\n",
       "      <td>31-May-97</td>\n",
       "      <td>$40,000.00</td>\n",
       "      <td>$0.00</td>\n",
       "      <td>P I F</td>\n",
       "      <td>$0.00</td>\n",
       "      <td>$40,000.00</td>\n",
       "      <td>$32,000.00</td>\n",
       "    </tr>\n",
       "    <tr>\n",
       "      <th>2</th>\n",
       "      <td>1000034009</td>\n",
       "      <td>WHITLOCK DDS, TODD M.</td>\n",
       "      <td>BLOOMINGTON</td>\n",
       "      <td>IN</td>\n",
       "      <td>47401</td>\n",
       "      <td>GRANT COUNTY STATE BANK</td>\n",
       "      <td>IN</td>\n",
       "      <td>621210</td>\n",
       "      <td>28-Feb-97</td>\n",
       "      <td>1997</td>\n",
       "      <td>...</td>\n",
       "      <td>N</td>\n",
       "      <td>N</td>\n",
       "      <td>NaN</td>\n",
       "      <td>31-Dec-97</td>\n",
       "      <td>$287,000.00</td>\n",
       "      <td>$0.00</td>\n",
       "      <td>P I F</td>\n",
       "      <td>$0.00</td>\n",
       "      <td>$287,000.00</td>\n",
       "      <td>$215,250.00</td>\n",
       "    </tr>\n",
       "    <tr>\n",
       "      <th>3</th>\n",
       "      <td>1000044001</td>\n",
       "      <td>BIG BUCKS PAWN &amp; JEWELRY, LLC</td>\n",
       "      <td>BROKEN ARROW</td>\n",
       "      <td>OK</td>\n",
       "      <td>74012</td>\n",
       "      <td>1ST NATL BK &amp; TR CO OF BROKEN</td>\n",
       "      <td>OK</td>\n",
       "      <td>0</td>\n",
       "      <td>28-Feb-97</td>\n",
       "      <td>1997</td>\n",
       "      <td>...</td>\n",
       "      <td>N</td>\n",
       "      <td>Y</td>\n",
       "      <td>NaN</td>\n",
       "      <td>30-Jun-97</td>\n",
       "      <td>$35,000.00</td>\n",
       "      <td>$0.00</td>\n",
       "      <td>P I F</td>\n",
       "      <td>$0.00</td>\n",
       "      <td>$35,000.00</td>\n",
       "      <td>$28,000.00</td>\n",
       "    </tr>\n",
       "    <tr>\n",
       "      <th>4</th>\n",
       "      <td>1000054004</td>\n",
       "      <td>ANASTASIA CONFECTIONS, INC.</td>\n",
       "      <td>ORLANDO</td>\n",
       "      <td>FL</td>\n",
       "      <td>32801</td>\n",
       "      <td>FLORIDA BUS. DEVEL CORP</td>\n",
       "      <td>FL</td>\n",
       "      <td>0</td>\n",
       "      <td>28-Feb-97</td>\n",
       "      <td>1997</td>\n",
       "      <td>...</td>\n",
       "      <td>N</td>\n",
       "      <td>N</td>\n",
       "      <td>NaN</td>\n",
       "      <td>14-May-97</td>\n",
       "      <td>$229,000.00</td>\n",
       "      <td>$0.00</td>\n",
       "      <td>P I F</td>\n",
       "      <td>$0.00</td>\n",
       "      <td>$229,000.00</td>\n",
       "      <td>$229,000.00</td>\n",
       "    </tr>\n",
       "  </tbody>\n",
       "</table>\n",
       "<p>5 rows × 27 columns</p>\n",
       "</div>"
      ],
      "text/plain": [
       "   LoanNr_ChkDgt                           Name          City State    Zip  \\\n",
       "0     1000014003                 ABC HOBBYCRAFT    EVANSVILLE    IN  47711   \n",
       "1     1000024006    LANDMARK BAR & GRILLE (THE)     NEW PARIS    IN  46526   \n",
       "2     1000034009          WHITLOCK DDS, TODD M.   BLOOMINGTON    IN  47401   \n",
       "3     1000044001  BIG BUCKS PAWN & JEWELRY, LLC  BROKEN ARROW    OK  74012   \n",
       "4     1000054004    ANASTASIA CONFECTIONS, INC.       ORLANDO    FL  32801   \n",
       "\n",
       "                            Bank BankState   NAICS ApprovalDate ApprovalFY  \\\n",
       "0               FIFTH THIRD BANK        OH  451120    28-Feb-97       1997   \n",
       "1                1ST SOURCE BANK        IN  722410    28-Feb-97       1997   \n",
       "2        GRANT COUNTY STATE BANK        IN  621210    28-Feb-97       1997   \n",
       "3  1ST NATL BK & TR CO OF BROKEN        OK       0    28-Feb-97       1997   \n",
       "4        FLORIDA BUS. DEVEL CORP        FL       0    28-Feb-97       1997   \n",
       "\n",
       "   ...  RevLineCr  LowDoc  ChgOffDate  DisbursementDate  DisbursementGross  \\\n",
       "0  ...          N       Y         NaN         28-Feb-99        $60,000.00    \n",
       "1  ...          N       Y         NaN         31-May-97        $40,000.00    \n",
       "2  ...          N       N         NaN         31-Dec-97       $287,000.00    \n",
       "3  ...          N       Y         NaN         30-Jun-97        $35,000.00    \n",
       "4  ...          N       N         NaN         14-May-97       $229,000.00    \n",
       "\n",
       "   BalanceGross  MIS_Status ChgOffPrinGr        GrAppv      SBA_Appv  \n",
       "0        $0.00        P I F       $0.00    $60,000.00    $48,000.00   \n",
       "1        $0.00        P I F       $0.00    $40,000.00    $32,000.00   \n",
       "2        $0.00        P I F       $0.00   $287,000.00   $215,250.00   \n",
       "3        $0.00        P I F       $0.00    $35,000.00    $28,000.00   \n",
       "4        $0.00        P I F       $0.00   $229,000.00   $229,000.00   \n",
       "\n",
       "[5 rows x 27 columns]"
      ]
     },
     "execution_count": 2,
     "metadata": {},
     "output_type": "execute_result"
    }
   ],
   "source": [
    "df = pd.read_csv(\"SBAnational.csv\")\n",
    "print(df.shape)\n",
    "df.head()"
   ]
  },
  {
   "cell_type": "code",
   "execution_count": 3,
   "metadata": {},
   "outputs": [
    {
     "data": {
      "text/html": [
       "<div>\n",
       "<style scoped>\n",
       "    .dataframe tbody tr th:only-of-type {\n",
       "        vertical-align: middle;\n",
       "    }\n",
       "\n",
       "    .dataframe tbody tr th {\n",
       "        vertical-align: top;\n",
       "    }\n",
       "\n",
       "    .dataframe thead th {\n",
       "        text-align: right;\n",
       "    }\n",
       "</style>\n",
       "<table border=\"1\" class=\"dataframe\">\n",
       "  <thead>\n",
       "    <tr style=\"text-align: right;\">\n",
       "      <th></th>\n",
       "      <th>LoanNr_ChkDgt</th>\n",
       "      <th>Zip</th>\n",
       "      <th>NAICS</th>\n",
       "      <th>Term</th>\n",
       "      <th>NoEmp</th>\n",
       "      <th>NewExist</th>\n",
       "      <th>CreateJob</th>\n",
       "      <th>RetainedJob</th>\n",
       "      <th>FranchiseCode</th>\n",
       "      <th>UrbanRural</th>\n",
       "    </tr>\n",
       "  </thead>\n",
       "  <tbody>\n",
       "    <tr>\n",
       "      <th>count</th>\n",
       "      <td>8.991640e+05</td>\n",
       "      <td>899164.000000</td>\n",
       "      <td>899164.000000</td>\n",
       "      <td>899164.000000</td>\n",
       "      <td>899164.000000</td>\n",
       "      <td>899028.000000</td>\n",
       "      <td>899164.000000</td>\n",
       "      <td>899164.000000</td>\n",
       "      <td>899164.000000</td>\n",
       "      <td>899164.000000</td>\n",
       "    </tr>\n",
       "    <tr>\n",
       "      <th>mean</th>\n",
       "      <td>4.772612e+09</td>\n",
       "      <td>53804.391241</td>\n",
       "      <td>398660.950146</td>\n",
       "      <td>110.773078</td>\n",
       "      <td>11.411353</td>\n",
       "      <td>1.280404</td>\n",
       "      <td>8.430376</td>\n",
       "      <td>10.797257</td>\n",
       "      <td>2753.725933</td>\n",
       "      <td>0.757748</td>\n",
       "    </tr>\n",
       "    <tr>\n",
       "      <th>std</th>\n",
       "      <td>2.538175e+09</td>\n",
       "      <td>31184.159152</td>\n",
       "      <td>263318.312760</td>\n",
       "      <td>78.857305</td>\n",
       "      <td>74.108196</td>\n",
       "      <td>0.451750</td>\n",
       "      <td>236.688165</td>\n",
       "      <td>237.120600</td>\n",
       "      <td>12758.019136</td>\n",
       "      <td>0.646436</td>\n",
       "    </tr>\n",
       "    <tr>\n",
       "      <th>min</th>\n",
       "      <td>1.000014e+09</td>\n",
       "      <td>0.000000</td>\n",
       "      <td>0.000000</td>\n",
       "      <td>0.000000</td>\n",
       "      <td>0.000000</td>\n",
       "      <td>0.000000</td>\n",
       "      <td>0.000000</td>\n",
       "      <td>0.000000</td>\n",
       "      <td>0.000000</td>\n",
       "      <td>0.000000</td>\n",
       "    </tr>\n",
       "    <tr>\n",
       "      <th>25%</th>\n",
       "      <td>2.589758e+09</td>\n",
       "      <td>27587.000000</td>\n",
       "      <td>235210.000000</td>\n",
       "      <td>60.000000</td>\n",
       "      <td>2.000000</td>\n",
       "      <td>1.000000</td>\n",
       "      <td>0.000000</td>\n",
       "      <td>0.000000</td>\n",
       "      <td>1.000000</td>\n",
       "      <td>0.000000</td>\n",
       "    </tr>\n",
       "    <tr>\n",
       "      <th>50%</th>\n",
       "      <td>4.361439e+09</td>\n",
       "      <td>55410.000000</td>\n",
       "      <td>445310.000000</td>\n",
       "      <td>84.000000</td>\n",
       "      <td>4.000000</td>\n",
       "      <td>1.000000</td>\n",
       "      <td>0.000000</td>\n",
       "      <td>1.000000</td>\n",
       "      <td>1.000000</td>\n",
       "      <td>1.000000</td>\n",
       "    </tr>\n",
       "    <tr>\n",
       "      <th>75%</th>\n",
       "      <td>6.904627e+09</td>\n",
       "      <td>83704.000000</td>\n",
       "      <td>561730.000000</td>\n",
       "      <td>120.000000</td>\n",
       "      <td>10.000000</td>\n",
       "      <td>2.000000</td>\n",
       "      <td>1.000000</td>\n",
       "      <td>4.000000</td>\n",
       "      <td>1.000000</td>\n",
       "      <td>1.000000</td>\n",
       "    </tr>\n",
       "    <tr>\n",
       "      <th>max</th>\n",
       "      <td>9.996003e+09</td>\n",
       "      <td>99999.000000</td>\n",
       "      <td>928120.000000</td>\n",
       "      <td>569.000000</td>\n",
       "      <td>9999.000000</td>\n",
       "      <td>2.000000</td>\n",
       "      <td>8800.000000</td>\n",
       "      <td>9500.000000</td>\n",
       "      <td>99999.000000</td>\n",
       "      <td>2.000000</td>\n",
       "    </tr>\n",
       "  </tbody>\n",
       "</table>\n",
       "</div>"
      ],
      "text/plain": [
       "       LoanNr_ChkDgt            Zip          NAICS           Term  \\\n",
       "count   8.991640e+05  899164.000000  899164.000000  899164.000000   \n",
       "mean    4.772612e+09   53804.391241  398660.950146     110.773078   \n",
       "std     2.538175e+09   31184.159152  263318.312760      78.857305   \n",
       "min     1.000014e+09       0.000000       0.000000       0.000000   \n",
       "25%     2.589758e+09   27587.000000  235210.000000      60.000000   \n",
       "50%     4.361439e+09   55410.000000  445310.000000      84.000000   \n",
       "75%     6.904627e+09   83704.000000  561730.000000     120.000000   \n",
       "max     9.996003e+09   99999.000000  928120.000000     569.000000   \n",
       "\n",
       "               NoEmp       NewExist      CreateJob    RetainedJob  \\\n",
       "count  899164.000000  899028.000000  899164.000000  899164.000000   \n",
       "mean       11.411353       1.280404       8.430376      10.797257   \n",
       "std        74.108196       0.451750     236.688165     237.120600   \n",
       "min         0.000000       0.000000       0.000000       0.000000   \n",
       "25%         2.000000       1.000000       0.000000       0.000000   \n",
       "50%         4.000000       1.000000       0.000000       1.000000   \n",
       "75%        10.000000       2.000000       1.000000       4.000000   \n",
       "max      9999.000000       2.000000    8800.000000    9500.000000   \n",
       "\n",
       "       FranchiseCode     UrbanRural  \n",
       "count  899164.000000  899164.000000  \n",
       "mean     2753.725933       0.757748  \n",
       "std     12758.019136       0.646436  \n",
       "min         0.000000       0.000000  \n",
       "25%         1.000000       0.000000  \n",
       "50%         1.000000       1.000000  \n",
       "75%         1.000000       1.000000  \n",
       "max     99999.000000       2.000000  "
      ]
     },
     "execution_count": 3,
     "metadata": {},
     "output_type": "execute_result"
    }
   ],
   "source": [
    "df.describe()"
   ]
  },
  {
   "cell_type": "code",
   "execution_count": 4,
   "metadata": {},
   "outputs": [
    {
     "data": {
      "text/html": [
       "<div>\n",
       "<style scoped>\n",
       "    .dataframe tbody tr th:only-of-type {\n",
       "        vertical-align: middle;\n",
       "    }\n",
       "\n",
       "    .dataframe tbody tr th {\n",
       "        vertical-align: top;\n",
       "    }\n",
       "\n",
       "    .dataframe thead th {\n",
       "        text-align: right;\n",
       "    }\n",
       "</style>\n",
       "<table border=\"1\" class=\"dataframe\">\n",
       "  <thead>\n",
       "    <tr style=\"text-align: right;\">\n",
       "      <th></th>\n",
       "      <th>Name</th>\n",
       "      <th>City</th>\n",
       "      <th>State</th>\n",
       "      <th>Bank</th>\n",
       "      <th>BankState</th>\n",
       "      <th>ApprovalDate</th>\n",
       "      <th>ApprovalFY</th>\n",
       "      <th>RevLineCr</th>\n",
       "      <th>LowDoc</th>\n",
       "      <th>ChgOffDate</th>\n",
       "      <th>DisbursementDate</th>\n",
       "      <th>DisbursementGross</th>\n",
       "      <th>BalanceGross</th>\n",
       "      <th>MIS_Status</th>\n",
       "      <th>ChgOffPrinGr</th>\n",
       "      <th>GrAppv</th>\n",
       "      <th>SBA_Appv</th>\n",
       "    </tr>\n",
       "  </thead>\n",
       "  <tbody>\n",
       "    <tr>\n",
       "      <th>count</th>\n",
       "      <td>899150</td>\n",
       "      <td>899134</td>\n",
       "      <td>899150</td>\n",
       "      <td>897605</td>\n",
       "      <td>897598</td>\n",
       "      <td>899164</td>\n",
       "      <td>899164</td>\n",
       "      <td>894636</td>\n",
       "      <td>896582</td>\n",
       "      <td>162699</td>\n",
       "      <td>896796</td>\n",
       "      <td>899164</td>\n",
       "      <td>899164</td>\n",
       "      <td>897167</td>\n",
       "      <td>899164</td>\n",
       "      <td>899164</td>\n",
       "      <td>899164</td>\n",
       "    </tr>\n",
       "    <tr>\n",
       "      <th>unique</th>\n",
       "      <td>779583</td>\n",
       "      <td>32581</td>\n",
       "      <td>51</td>\n",
       "      <td>5802</td>\n",
       "      <td>56</td>\n",
       "      <td>9859</td>\n",
       "      <td>70</td>\n",
       "      <td>18</td>\n",
       "      <td>8</td>\n",
       "      <td>6448</td>\n",
       "      <td>8472</td>\n",
       "      <td>118859</td>\n",
       "      <td>15</td>\n",
       "      <td>2</td>\n",
       "      <td>83165</td>\n",
       "      <td>22128</td>\n",
       "      <td>38326</td>\n",
       "    </tr>\n",
       "    <tr>\n",
       "      <th>top</th>\n",
       "      <td>SUBWAY</td>\n",
       "      <td>LOS ANGELES</td>\n",
       "      <td>CA</td>\n",
       "      <td>BANK OF AMERICA NATL ASSOC</td>\n",
       "      <td>CA</td>\n",
       "      <td>7-Jul-93</td>\n",
       "      <td>2006</td>\n",
       "      <td>N</td>\n",
       "      <td>N</td>\n",
       "      <td>13-Mar-10</td>\n",
       "      <td>31-Jul-95</td>\n",
       "      <td>$50,000.00</td>\n",
       "      <td>$0.00</td>\n",
       "      <td>P I F</td>\n",
       "      <td>$0.00</td>\n",
       "      <td>$50,000.00</td>\n",
       "      <td>$25,000.00</td>\n",
       "    </tr>\n",
       "    <tr>\n",
       "      <th>freq</th>\n",
       "      <td>1269</td>\n",
       "      <td>11558</td>\n",
       "      <td>130619</td>\n",
       "      <td>86853</td>\n",
       "      <td>118116</td>\n",
       "      <td>1131</td>\n",
       "      <td>76040</td>\n",
       "      <td>420288</td>\n",
       "      <td>782822</td>\n",
       "      <td>734</td>\n",
       "      <td>10371</td>\n",
       "      <td>43787</td>\n",
       "      <td>899150</td>\n",
       "      <td>739609</td>\n",
       "      <td>737152</td>\n",
       "      <td>69394</td>\n",
       "      <td>49579</td>\n",
       "    </tr>\n",
       "  </tbody>\n",
       "</table>\n",
       "</div>"
      ],
      "text/plain": [
       "          Name         City   State                        Bank BankState  \\\n",
       "count   899150       899134  899150                      897605    897598   \n",
       "unique  779583        32581      51                        5802        56   \n",
       "top     SUBWAY  LOS ANGELES      CA  BANK OF AMERICA NATL ASSOC        CA   \n",
       "freq      1269        11558  130619                       86853    118116   \n",
       "\n",
       "       ApprovalDate  ApprovalFY RevLineCr  LowDoc ChgOffDate DisbursementDate  \\\n",
       "count        899164      899164    894636  896582     162699           896796   \n",
       "unique         9859          70        18       8       6448             8472   \n",
       "top        7-Jul-93        2006         N       N  13-Mar-10        31-Jul-95   \n",
       "freq           1131       76040    420288  782822        734            10371   \n",
       "\n",
       "       DisbursementGross BalanceGross MIS_Status ChgOffPrinGr       GrAppv  \\\n",
       "count             899164       899164     897167       899164       899164   \n",
       "unique            118859           15          2        83165        22128   \n",
       "top          $50,000.00        $0.00       P I F       $0.00   $50,000.00    \n",
       "freq               43787       899150     739609       737152        69394   \n",
       "\n",
       "           SBA_Appv  \n",
       "count        899164  \n",
       "unique        38326  \n",
       "top     $25,000.00   \n",
       "freq          49579  "
      ]
     },
     "execution_count": 4,
     "metadata": {},
     "output_type": "execute_result"
    }
   ],
   "source": [
    "df.describe(include='O')"
   ]
  },
  {
   "cell_type": "code",
   "execution_count": 5,
   "metadata": {},
   "outputs": [
    {
     "name": "stdout",
     "output_type": "stream",
     "text": [
      "valeurs nulles : \n",
      "LoanNr_ChkDgt             0\n",
      "Name                     14\n",
      "City                     30\n",
      "State                    14\n",
      "Zip                       0\n",
      "Bank                   1559\n",
      "BankState              1566\n",
      "NAICS                     0\n",
      "ApprovalDate              0\n",
      "ApprovalFY                0\n",
      "Term                      0\n",
      "NoEmp                     0\n",
      "NewExist                136\n",
      "CreateJob                 0\n",
      "RetainedJob               0\n",
      "FranchiseCode             0\n",
      "UrbanRural                0\n",
      "RevLineCr              4528\n",
      "LowDoc                 2582\n",
      "ChgOffDate           736465\n",
      "DisbursementDate       2368\n",
      "DisbursementGross         0\n",
      "BalanceGross              0\n",
      "MIS_Status             1997\n",
      "ChgOffPrinGr              0\n",
      "GrAppv                    0\n",
      "SBA_Appv                  0\n",
      "dtype: int64\n"
     ]
    },
    {
     "data": {
      "text/plain": [
       "<Axes: >"
      ]
     },
     "execution_count": 5,
     "metadata": {},
     "output_type": "execute_result"
    },
    {
     "data": {
      "image/png": "[encoded data removed]",
      "text/plain": [
       "<Figure size 2500x1000 with 2 Axes>"
      ]
     },
     "metadata": {},
     "output_type": "display_data"
    }
   ],
   "source": [
    "print(\"valeurs nulles : \")\n",
    "print(df.isnull().sum())\n",
    "msno.matrix(df)"
   ]
  },
  {
   "cell_type": "code",
   "execution_count": 6,
   "metadata": {},
   "outputs": [
    {
     "name": "stdout",
     "output_type": "stream",
     "text": [
      "nombre MIS_Status :  (3,) ['P I F' 'CHGOFF' nan]\n",
      "nombre noms :  (779584,)\n",
      "nombre de villes :  (32582,)\n",
      "nombre d'états :  (52,)\n",
      "nombre de zip codes :  (33611,)\n",
      "nombre de valeurs urbanRural :  (3,) [0 1 2]\n",
      "nombre de banques :  (5803,)\n",
      "nombre de RetainedJob :  (358,)\n",
      "nombre de NAICS :  (1312,)\n",
      "nombre de RevLineCr :  (19,) ['N' '0' 'Y' 'T' nan '`' ',' '1' 'C' '3' '2' 'R' '7' 'A' '5' '.' '4' '-'\n",
      " 'Q']\n",
      "nombre de NAICS 2 premiers chiffres :  (25,) ['45' '72' '62' '0' '33' '81' '23' '44' '42' '61' '53' '54' '31' '51' '71'\n",
      " '52' '21' '32' '56' '48' '11' '92' '22' '49' '55']\n",
      "nombre de valeurs dans NewExist :  (4,) [ 2.  1.  0. nan]\n"
     ]
    }
   ],
   "source": [
    "print(\"nombre MIS_Status : \", df[\"MIS_Status\"].unique().shape, df[\"MIS_Status\"].unique())\n",
    "print(\"nombre noms : \", df[\"Name\"].unique().shape)\n",
    "print(\"nombre de villes : \", df[\"City\"].unique().shape)\n",
    "print(\"nombre d'états : \", df[\"State\"].unique().shape)\n",
    "print(\"nombre de zip codes : \", df[\"Zip\"].unique().shape)\n",
    "print(\"nombre de valeurs urbanRural : \", df[\"UrbanRural\"].unique().shape, df[\"UrbanRural\"].unique())\n",
    "print(\"nombre de banques : \", df[\"Bank\"].unique().shape)\n",
    "print(\"nombre de RetainedJob : \", df[\"RetainedJob\"].unique().shape)\n",
    "print(\"nombre de NAICS : \", df[\"NAICS\"].unique().shape)\n",
    "print(\"nombre de RevLineCr : \", df[\"RevLineCr\"].unique().shape, df[\"RevLineCr\"].unique())\n",
    "\n",
    "naics_2_digits = df[\"NAICS\"].astype(str).str[:2]\n",
    "print(\"nombre de NAICS 2 premiers chiffres : \", naics_2_digits.unique().shape, naics_2_digits.unique())\n",
    "print(\"nombre de valeurs dans NewExist : \", df[\"NewExist\"].unique().shape, df[\"NewExist\"].unique())\n"
   ]
  },
  {
   "cell_type": "code",
   "execution_count": 7,
   "metadata": {},
   "outputs": [
    {
     "name": "stdout",
     "output_type": "stream",
     "text": [
      "Nombre de lignes avec NAICS = 0\n"
     ]
    },
    {
     "data": {
      "text/plain": [
       "201948"
      ]
     },
     "execution_count": 7,
     "metadata": {},
     "output_type": "execute_result"
    }
   ],
   "source": [
    "print(\"Nombre de lignes avec NAICS = 0\")\n",
    "df[df[\"NAICS\"] == 0].shape[0]"
   ]
  },
  {
   "cell_type": "markdown",
   "metadata": {},
   "source": [
    "# traitement valeurs nulles : \n",
    "- pour la target \"MIS_Status\" -> si ChgOffPrinGr (Montant du prêt déclaré en défaut (non remboursé).) == 0 donc MIS_Status = PIF sinon CHGOFF ✅\n",
    "  - utiliser ChgOffDate car la corrélation est forte 0.98 \n",
    "  \n",
    "- pour \"state\" : essayer de déterminer le state à partir de la ville \"city\" ou du code postal \"Zip\"     ✅\n",
    "  - créer 2 dictionnaires des City et Zip : city et zip comme clés pour chaque dictionnaire et le state comme valeur\n",
    "  - déterminer les états manquants grace à ces 2 dictionnaires\n",
    "  \n",
    "- pour LowDoc : si le prêt est faible (GrAppv) (<$150,000) et après 1993, LowDoc = \"Y\" sinon non :      ✅\n",
    "  - transformer les valeurs (0, 1, A, C, R, S)en null ;\n",
    "    - GrvAppv < 150000 et année > 1993\n",
    "  - donnees['LowDoc'] = np.where((donnees['GrAppv'] < 150000) & (donnees['ApprovalFY'] > 1990), 'Y', 'N')\n",
    "\n",
    "  \n",
    "- pour NewExists : on se base sur RetainedJob, on suppose que si l'entreprise va sauver des postes ça veut dire qu'elle existe déja. sinon utiliser le mode ✅\n",
    "  - L'article fait la distinction entre deux choses différentes :\n",
    "    - La variable originale NewExist dans le dataset :\n",
    "\n",
    "      1 = Existing Business (entreprise existante > 2 ans)\n",
    "      2 = New Business (nouvelle entreprise ≤ 2 ans)\n",
    "      0 = Erreur de codage\n",
    "\n",
    "    - Une nouvelle variable dummy \"New\" créée pour la régression logistique :\n",
    "\n",
    "      Dummy New = 1 si l'entreprise a ≤ 2 ans\n",
    "      Dummy New = 0 si l'entreprise a > 2 ans\n",
    "      \n",
    "  - On propose une approche qui consiste à remplacer les 0 par des 1\n",
    "  - on remplace les 136 NaN par le mode\n",
    "\n",
    "- pour RevLineCr : remplacer par le mode ? donnees['RevLineCr'] = donnees['RevLineCr'].fillna(donnees['RevLineCr'].mode()[0])\n",
    "  - On remplace les valeurs invalides par des NaN :\n",
    "    - donnees['RevLineCr'] = donnees['RevLineCr'].replace(['0', 'T', '1', 'R', '`', '2', 'C', ',', '3', '7', 'A', '5', '.', '4', '-', 'Q'], np.nan)\n",
    "  - on se base sur le montant total du pret GrAppv, le montant total du prêt versé DisbursementGross pour déterminer les valeurs NaN ?  ✅\n",
    "\n",
    "### remplacement :\n",
    "- on remplace franchise code par un booléen : 0 pas de franchise, 1 franchise\n",
    "\n",
    "\n",
    "# -----------------------------------------------------------------------"
   ]
  },
  {
   "cell_type": "markdown",
   "metadata": {},
   "source": [
    "# Convertir les variables Objet (numériques) et int ou float\n",
    "- ApprovalFY\n",
    "- LowDoc\n",
    "- DisbursementGross     Prix\n",
    "- BalanceGross          Prix\n",
    "- ChgOffPrinGr          Prix\n",
    "- GrAppv                Prix\n",
    "- SBA_Appv              Prix\n"
   ]
  },
  {
   "cell_type": "code",
   "execution_count": 8,
   "metadata": {},
   "outputs": [
    {
     "data": {
      "text/plain": [
       "ApprovalFY           object\n",
       "LowDoc               object\n",
       "DisbursementGross    object\n",
       "BalanceGross         object\n",
       "ChgOffPrinGr         object\n",
       "GrAppv               object\n",
       "SBA_Appv             object\n",
       "dtype: object"
      ]
     },
     "execution_count": 8,
     "metadata": {},
     "output_type": "execute_result"
    }
   ],
   "source": [
    "df[[\"ApprovalFY\", \"LowDoc\", \"DisbursementGross\", \"BalanceGross\", \"ChgOffPrinGr\", \"GrAppv\", \"SBA_Appv\"]].dtypes"
   ]
  },
  {
   "cell_type": "code",
   "execution_count": 9,
   "metadata": {},
   "outputs": [
    {
     "name": "stdout",
     "output_type": "stream",
     "text": [
      "Index(['LoanNr_ChkDgt', 'Name', 'City', 'State', 'Zip', 'Bank', 'BankState',\n",
      "       'NAICS', 'ApprovalDate', 'ApprovalFY', 'Term', 'NoEmp', 'NewExist',\n",
      "       'CreateJob', 'RetainedJob', 'FranchiseCode', 'UrbanRural', 'RevLineCr',\n",
      "       'LowDoc', 'ChgOffDate', 'DisbursementDate', 'DisbursementGross',\n",
      "       'BalanceGross', 'MIS_Status', 'ChgOffPrinGr', 'GrAppv', 'SBA_Appv'],\n",
      "      dtype='object')\n"
     ]
    }
   ],
   "source": [
    "print(df.columns)\n"
   ]
  },
  {
   "cell_type": "code",
   "execution_count": 10,
   "metadata": {},
   "outputs": [
    {
     "data": {
      "text/plain": [
       "array([1997, 1980, 2006, 1998, 1999, 2000, 2001, 1972, 2003, 2004, 1978,\n",
       "       1979, 1981, 2005, 1962, 1982, 1965, 1966, 1983, 1973, 1984, 2007,\n",
       "       1985, 1986, 1987, 2008, 1988, 2009, 1989, 1991, 1990, 1974, 2010,\n",
       "       1967, 2011, 1992, 1993, 2002, 2012, 2013, 1994, 2014, 1975, 1977,\n",
       "       1976, 1968, '2004', '1994', '1979', '1976', '1967', '1975', '1974',\n",
       "       '1977', '1981', '1982', '1983', '1984', '1978', '1980', '1968',\n",
       "       '1976A', '1969', '1995', '1970', '2005', '1996', '1971', 1996,\n",
       "       1971], dtype=object)"
      ]
     },
     "execution_count": 10,
     "metadata": {},
     "output_type": "execute_result"
    }
   ],
   "source": [
    "df[\"ApprovalFY\"].unique()"
   ]
  },
  {
   "cell_type": "code",
   "execution_count": 11,
   "metadata": {},
   "outputs": [
    {
     "name": "stderr",
     "output_type": "stream",
     "text": [
      "/var/folders/s4/wkdjj13x2635cdbxl0dx7yv00000gn/T/ipykernel_45891/1015700049.py:10: FutureWarning: Downcasting behavior in `replace` is deprecated and will be removed in a future version. To retain the old behavior, explicitly call `result.infer_objects(copy=False)`. To opt-in to the future behavior, set `pd.set_option('future.no_silent_downcasting', True)`\n",
      "  df[\"LowDoc\"] = df[\"LowDoc\"].replace({\"Y\" : 1, \"N\" : 0})\n"
     ]
    }
   ],
   "source": [
    "# colonne année\n",
    "df[\"ApprovalFY\"] = df[\"ApprovalFY\"].astype(str).str.replace('A', '').astype(int)\n",
    "\n",
    "# colonnes monétaires\n",
    "for colonne in [\"DisbursementGross\", \"BalanceGross\", \"ChgOffPrinGr\", \"GrAppv\", \"SBA_Appv\"] :\n",
    "    df[colonne] = df[colonne].str.replace('$', '').str.replace(',', '').astype(float)\n",
    "\n",
    "# colonne LowDoc\n",
    "df[\"LowDoc\"] = np.where((df[\"GrAppv\"] < 150000) & (df[\"ApprovalFY\"] > 1993), \"Y\", \"N\")\n",
    "df[\"LowDoc\"] = df[\"LowDoc\"].replace({\"Y\" : 1, \"N\" : 0})\n",
    "# df['LowDoc'] = df['LowDoc'].map({'Y': 1, 'N': 0})\n"
   ]
  },
  {
   "cell_type": "code",
   "execution_count": 12,
   "metadata": {},
   "outputs": [
    {
     "data": {
      "text/plain": [
       "ApprovalFY             int64\n",
       "LowDoc                 int64\n",
       "DisbursementGross    float64\n",
       "BalanceGross         float64\n",
       "ChgOffPrinGr         float64\n",
       "GrAppv               float64\n",
       "SBA_Appv             float64\n",
       "dtype: object"
      ]
     },
     "execution_count": 12,
     "metadata": {},
     "output_type": "execute_result"
    }
   ],
   "source": [
    "df[[\"ApprovalFY\", \"LowDoc\", \"DisbursementGross\", \"BalanceGross\", \"ChgOffPrinGr\", \"GrAppv\", \"SBA_Appv\"]].dtypes"
   ]
  },
  {
   "cell_type": "code",
   "execution_count": 13,
   "metadata": {},
   "outputs": [
    {
     "name": "stdout",
     "output_type": "stream",
     "text": [
      "(899164, 27)\n",
      "lignes dupliquées : \n"
     ]
    },
    {
     "data": {
      "text/html": [
       "<div>\n",
       "<style scoped>\n",
       "    .dataframe tbody tr th:only-of-type {\n",
       "        vertical-align: middle;\n",
       "    }\n",
       "\n",
       "    .dataframe tbody tr th {\n",
       "        vertical-align: top;\n",
       "    }\n",
       "\n",
       "    .dataframe thead th {\n",
       "        text-align: right;\n",
       "    }\n",
       "</style>\n",
       "<table border=\"1\" class=\"dataframe\">\n",
       "  <thead>\n",
       "    <tr style=\"text-align: right;\">\n",
       "      <th></th>\n",
       "      <th>LoanNr_ChkDgt</th>\n",
       "      <th>Name</th>\n",
       "      <th>City</th>\n",
       "      <th>State</th>\n",
       "      <th>Zip</th>\n",
       "      <th>Bank</th>\n",
       "      <th>BankState</th>\n",
       "      <th>NAICS</th>\n",
       "      <th>ApprovalDate</th>\n",
       "      <th>ApprovalFY</th>\n",
       "      <th>...</th>\n",
       "      <th>RevLineCr</th>\n",
       "      <th>LowDoc</th>\n",
       "      <th>ChgOffDate</th>\n",
       "      <th>DisbursementDate</th>\n",
       "      <th>DisbursementGross</th>\n",
       "      <th>BalanceGross</th>\n",
       "      <th>MIS_Status</th>\n",
       "      <th>ChgOffPrinGr</th>\n",
       "      <th>GrAppv</th>\n",
       "      <th>SBA_Appv</th>\n",
       "    </tr>\n",
       "  </thead>\n",
       "  <tbody>\n",
       "  </tbody>\n",
       "</table>\n",
       "<p>0 rows × 27 columns</p>\n",
       "</div>"
      ],
      "text/plain": [
       "Empty DataFrame\n",
       "Columns: [LoanNr_ChkDgt, Name, City, State, Zip, Bank, BankState, NAICS, ApprovalDate, ApprovalFY, Term, NoEmp, NewExist, CreateJob, RetainedJob, FranchiseCode, UrbanRural, RevLineCr, LowDoc, ChgOffDate, DisbursementDate, DisbursementGross, BalanceGross, MIS_Status, ChgOffPrinGr, GrAppv, SBA_Appv]\n",
       "Index: []\n",
       "\n",
       "[0 rows x 27 columns]"
      ]
     },
     "execution_count": 13,
     "metadata": {},
     "output_type": "execute_result"
    }
   ],
   "source": [
    "# print(df.shape)\n",
    "print(df.drop_duplicates().shape)\n",
    "print(\"lignes dupliquées : \")\n",
    "df[df.duplicated()]"
   ]
  },
  {
   "cell_type": "code",
   "execution_count": 14,
   "metadata": {},
   "outputs": [
    {
     "name": "stdout",
     "output_type": "stream",
     "text": [
      "corrélation entre ChgOffDate et MIS_Status: 0.980300052941702\n"
     ]
    }
   ],
   "source": [
    "# corrélation entre chgoff_date et la target MIS_Status\n",
    "\n",
    "df[\"has_chgoff_date\"] = np.where(df[\"ChgOffDate\"].isna(), 0, 1)\n",
    "df[\"default\"] = np.where(df[\"MIS_Status\"] == \"CHGOFF\", 1, 0)\n",
    "\n",
    "correlation = df[\"has_chgoff_date\"].corr(df[\"default\"])\n",
    "print(\"corrélation entre ChgOffDate et MIS_Status:\", correlation)"
   ]
  },
  {
   "cell_type": "code",
   "execution_count": 15,
   "metadata": {},
   "outputs": [],
   "source": [
    "# donnees[\"MIS_Status\"] = np.where(donnees[\"ChgOffDate\"].notna(), \"CHGOFF\", \"PIF\")\n",
    "\n",
    "df[\"MIS_Status\"] = np.where(df[\"MIS_Status\"].isna() & df[\"ChgOffDate\"].notna(), \"CHGOFF\", df[\"MIS_Status\"])\n",
    "df[\"MIS_Status\"] = np.where(df[\"MIS_Status\"].isna() & df[\"ChgOffDate\"].isna(), \"P I F\", df[\"MIS_Status\"])"
   ]
  },
  {
   "cell_type": "code",
   "execution_count": 16,
   "metadata": {},
   "outputs": [
    {
     "data": {
      "text/plain": [
       "array(['P I F', 'CHGOFF'], dtype=object)"
      ]
     },
     "execution_count": 16,
     "metadata": {},
     "output_type": "execute_result"
    }
   ],
   "source": [
    "df[\"MIS_Status\"].unique()"
   ]
  },
  {
   "cell_type": "code",
   "execution_count": 17,
   "metadata": {},
   "outputs": [
    {
     "data": {
      "text/plain": [
       "0"
      ]
     },
     "execution_count": 17,
     "metadata": {},
     "output_type": "execute_result"
    }
   ],
   "source": [
    "df[\"MIS_Status\"].isna().sum()"
   ]
  },
  {
   "cell_type": "markdown",
   "metadata": {},
   "source": [
    "# Variable NewExist : "
   ]
  },
  {
   "cell_type": "code",
   "execution_count": 18,
   "metadata": {},
   "outputs": [
    {
     "name": "stdout",
     "output_type": "stream",
     "text": [
      "Corrélations : bool_NewExist       1.000000\n",
      "bool_RetainedJob    0.110240\n",
      "bool_CreateJob     -0.043147\n",
      "Name: bool_NewExist, dtype: float64\n"
     ]
    }
   ],
   "source": [
    "# correlation entre Newexist et RetainedJob\n",
    "df[\"bool_RetainedJob\"] = np.where(df[\"RetainedJob\"] > 0, 1, 0)\n",
    "df[\"bool_CreateJob\"] = np.where(df[\"CreateJob\"] > 0, 1, 0)\n",
    "df[\"bool_NewExist\"] = np.where(df[\"NewExist\"] == 1, 1, 0)\n",
    "\n",
    "correlations = df[[\"bool_NewExist\", \"bool_RetainedJob\", \"bool_CreateJob\"]].corr()[\"bool_NewExist\"]\n",
    "print(\"Corrélations :\", correlations)"
   ]
  },
  {
   "cell_type": "code",
   "execution_count": 19,
   "metadata": {},
   "outputs": [],
   "source": [
    "df.drop([\"bool_RetainedJob\", \"bool_CreateJob\", \"bool_NewExist\", \"has_chgoff_date\", \"default\"], inplace=True, axis=1)"
   ]
  },
  {
   "cell_type": "markdown",
   "metadata": {},
   "source": [
    "Notre hypothèse est qu'il ya une corrélation entre RetainedJob (le nombre de jobs sauvés) et la variable NewExist\n",
    "On regarde s'il existe une correlation\n",
    "\n",
    "La corrélation est faible 0.110240 avec RetainedJob et -0.043147 avec CreateJob \n",
    "- Notre hypothèse n'est pas valide\n",
    "\n",
    "On va procéder ainsi : \n",
    "- NewExist = 0 → il sera = 0 (Existing Business)\n",
    "- on remplace les 136 valeurs nulles par le mode \n"
   ]
  },
  {
   "cell_type": "code",
   "execution_count": 20,
   "metadata": {},
   "outputs": [
    {
     "name": "stdout",
     "output_type": "stream",
     "text": [
      "NewExist = 0 : 1034\n",
      "NewExist = 1 : 644869\n",
      "NewExist = 2 : 253125\n"
     ]
    }
   ],
   "source": [
    "print(\"NewExist = 0 :\", df[df[\"NewExist\"] == 0].shape[0])\n",
    "print(\"NewExist = 1 :\", df[df[\"NewExist\"] == 1].shape[0])\n",
    "print(\"NewExist = 2 :\", df[df[\"NewExist\"] == 2].shape[0])"
   ]
  },
  {
   "cell_type": "code",
   "execution_count": 21,
   "metadata": {},
   "outputs": [],
   "source": [
    "df.loc[df[\"NewExist\"] == 0, \"NewExist\"] = 1\n",
    "mode_NewExist = df[\"NewExist\"].mode()[0]\n",
    "df[\"NewExist\"] = df[\"NewExist\"].fillna(mode_NewExist)"
   ]
  },
  {
   "cell_type": "markdown",
   "metadata": {},
   "source": [
    "# variable State"
   ]
  },
  {
   "cell_type": "code",
   "execution_count": 22,
   "metadata": {},
   "outputs": [
    {
     "data": {
      "text/plain": [
       "LoanNr_ChkDgt             0\n",
       "Name                     14\n",
       "City                     30\n",
       "State                    14\n",
       "Zip                       0\n",
       "Bank                   1559\n",
       "BankState              1566\n",
       "NAICS                     0\n",
       "ApprovalDate              0\n",
       "ApprovalFY                0\n",
       "Term                      0\n",
       "NoEmp                     0\n",
       "NewExist                  0\n",
       "CreateJob                 0\n",
       "RetainedJob               0\n",
       "FranchiseCode             0\n",
       "UrbanRural                0\n",
       "RevLineCr              4528\n",
       "LowDoc                    0\n",
       "ChgOffDate           736465\n",
       "DisbursementDate       2368\n",
       "DisbursementGross         0\n",
       "BalanceGross              0\n",
       "MIS_Status                0\n",
       "ChgOffPrinGr              0\n",
       "GrAppv                    0\n",
       "SBA_Appv                  0\n",
       "dtype: int64"
      ]
     },
     "execution_count": 22,
     "metadata": {},
     "output_type": "execute_result"
    }
   ],
   "source": [
    "df.isna().sum()"
   ]
  },
  {
   "cell_type": "code",
   "execution_count": 23,
   "metadata": {},
   "outputs": [
    {
     "name": "stderr",
     "output_type": "stream",
     "text": [
      "/var/folders/s4/wkdjj13x2635cdbxl0dx7yv00000gn/T/ipykernel_45891/263612411.py:8: FutureWarning: SeriesGroupBy.fillna is deprecated and will be removed in a future version. Use obj.ffill() or obj.bfill() for forward or backward filling instead. If you want to fill with a single value, use Series.fillna instead\n",
      "  donnees_sorted[\"State\"] = grouped[\"State\"].fillna(method=\"ffill\")\n",
      "/var/folders/s4/wkdjj13x2635cdbxl0dx7yv00000gn/T/ipykernel_45891/263612411.py:8: FutureWarning: Series.fillna with 'method' is deprecated and will raise in a future version. Use obj.ffill() or obj.bfill() instead.\n",
      "  donnees_sorted[\"State\"] = grouped[\"State\"].fillna(method=\"ffill\")\n",
      "/var/folders/s4/wkdjj13x2635cdbxl0dx7yv00000gn/T/ipykernel_45891/263612411.py:8: FutureWarning: Downcasting object dtype arrays on .fillna, .ffill, .bfill is deprecated and will change in a future version. Call result.infer_objects(copy=False) instead. To opt-in to the future behavior, set `pd.set_option('future.no_silent_downcasting', True)`\n",
      "  donnees_sorted[\"State\"] = grouped[\"State\"].fillna(method=\"ffill\")\n"
     ]
    }
   ],
   "source": [
    "# Trier le DataFrame par \"Code Postal\" dans l'ordre croissant.\n",
    "donnees_sorted = df.sort_values(by=\"Zip\")\n",
    "\n",
    "# Grouper le DataFrame par \"Code Postal\".\n",
    "grouped = donnees_sorted.groupby(\"Zip\")\n",
    "\n",
    "# Remplir les valeurs nulles de \"State\" avec la valeur \"State\" non nulle correspondante dans chaque groupe.\n",
    "donnees_sorted[\"State\"] = grouped[\"State\"].fillna(method=\"ffill\")\n",
    "df = donnees_sorted.sort_index()"
   ]
  },
  {
   "cell_type": "code",
   "execution_count": 24,
   "metadata": {},
   "outputs": [
    {
     "data": {
      "text/html": [
       "<div>\n",
       "<style scoped>\n",
       "    .dataframe tbody tr th:only-of-type {\n",
       "        vertical-align: middle;\n",
       "    }\n",
       "\n",
       "    .dataframe tbody tr th {\n",
       "        vertical-align: top;\n",
       "    }\n",
       "\n",
       "    .dataframe thead th {\n",
       "        text-align: right;\n",
       "    }\n",
       "</style>\n",
       "<table border=\"1\" class=\"dataframe\">\n",
       "  <thead>\n",
       "    <tr style=\"text-align: right;\">\n",
       "      <th></th>\n",
       "      <th>LoanNr_ChkDgt</th>\n",
       "      <th>Name</th>\n",
       "      <th>City</th>\n",
       "      <th>State</th>\n",
       "      <th>Zip</th>\n",
       "      <th>Bank</th>\n",
       "      <th>BankState</th>\n",
       "      <th>NAICS</th>\n",
       "      <th>ApprovalDate</th>\n",
       "      <th>ApprovalFY</th>\n",
       "      <th>...</th>\n",
       "      <th>RevLineCr</th>\n",
       "      <th>LowDoc</th>\n",
       "      <th>ChgOffDate</th>\n",
       "      <th>DisbursementDate</th>\n",
       "      <th>DisbursementGross</th>\n",
       "      <th>BalanceGross</th>\n",
       "      <th>MIS_Status</th>\n",
       "      <th>ChgOffPrinGr</th>\n",
       "      <th>GrAppv</th>\n",
       "      <th>SBA_Appv</th>\n",
       "    </tr>\n",
       "  </thead>\n",
       "  <tbody>\n",
       "    <tr>\n",
       "      <th>306274</th>\n",
       "      <td>3113583009</td>\n",
       "      <td>THE COMPUTER EDGE</td>\n",
       "      <td>BOX 267, APO  AP</td>\n",
       "      <td>NaN</td>\n",
       "      <td>96205</td>\n",
       "      <td>RTC/WESTPORT SAVINGS BANK</td>\n",
       "      <td>CA</td>\n",
       "      <td>541511</td>\n",
       "      <td>21-Jan-88</td>\n",
       "      <td>1988</td>\n",
       "      <td>...</td>\n",
       "      <td>N</td>\n",
       "      <td>0</td>\n",
       "      <td>18-Sep-93</td>\n",
       "      <td>16-Mar-88</td>\n",
       "      <td>50000.0</td>\n",
       "      <td>0.0</td>\n",
       "      <td>CHGOFF</td>\n",
       "      <td>30589.0</td>\n",
       "      <td>50000.0</td>\n",
       "      <td>45000.0</td>\n",
       "    </tr>\n",
       "  </tbody>\n",
       "</table>\n",
       "<p>1 rows × 27 columns</p>\n",
       "</div>"
      ],
      "text/plain": [
       "        LoanNr_ChkDgt               Name              City State    Zip  \\\n",
       "306274     3113583009  THE COMPUTER EDGE  BOX 267, APO  AP   NaN  96205   \n",
       "\n",
       "                             Bank BankState   NAICS ApprovalDate  ApprovalFY  \\\n",
       "306274  RTC/WESTPORT SAVINGS BANK        CA  541511    21-Jan-88        1988   \n",
       "\n",
       "        ...  RevLineCr  LowDoc  ChgOffDate  DisbursementDate  \\\n",
       "306274  ...          N       0   18-Sep-93         16-Mar-88   \n",
       "\n",
       "        DisbursementGross  BalanceGross  MIS_Status ChgOffPrinGr   GrAppv  \\\n",
       "306274            50000.0           0.0      CHGOFF      30589.0  50000.0   \n",
       "\n",
       "       SBA_Appv  \n",
       "306274  45000.0  \n",
       "\n",
       "[1 rows x 27 columns]"
      ]
     },
     "execution_count": 24,
     "metadata": {},
     "output_type": "execute_result"
    }
   ],
   "source": [
    "df.loc[df['State'].isnull()]"
   ]
  },
  {
   "cell_type": "code",
   "execution_count": 25,
   "metadata": {},
   "outputs": [
    {
     "name": "stderr",
     "output_type": "stream",
     "text": [
      "/var/folders/s4/wkdjj13x2635cdbxl0dx7yv00000gn/T/ipykernel_45891/1159532449.py:3: FutureWarning: A value is trying to be set on a copy of a DataFrame or Series through chained assignment using an inplace method.\n",
      "The behavior will change in pandas 3.0. This inplace method will never work because the intermediate object on which we are setting values always behaves as a copy.\n",
      "\n",
      "For example, when doing 'df[col].method(value, inplace=True)', try using 'df.method({col: value}, inplace=True)' or df[col] = df[col].method(value) instead, to perform the operation inplace on the original object.\n",
      "\n",
      "\n",
      "  df[\"State\"].fillna(df[\"BankState\"], inplace=True)\n"
     ]
    }
   ],
   "source": [
    "# On remplace les 2 valeurs nulles restantes de State par le BankState\n",
    "# donnees[donnees[\"City\"] == \"LAKE OZARK\"]\n",
    "df[\"State\"].fillna(df[\"BankState\"], inplace=True)"
   ]
  },
  {
   "cell_type": "code",
   "execution_count": 26,
   "metadata": {},
   "outputs": [
    {
     "data": {
      "text/plain": [
       "0"
      ]
     },
     "execution_count": 26,
     "metadata": {},
     "output_type": "execute_result"
    }
   ],
   "source": [
    "df['State'].isnull().sum()"
   ]
  },
  {
   "cell_type": "markdown",
   "metadata": {},
   "source": [
    "# variable LowDoc"
   ]
  },
  {
   "cell_type": "code",
   "execution_count": 27,
   "metadata": {},
   "outputs": [
    {
     "data": {
      "text/plain": [
       "0"
      ]
     },
     "execution_count": 27,
     "metadata": {},
     "output_type": "execute_result"
    }
   ],
   "source": [
    "df[\"LowDoc\"].isna().sum()"
   ]
  },
  {
   "cell_type": "code",
   "execution_count": 28,
   "metadata": {},
   "outputs": [],
   "source": [
    "df['LowDoc'] = np.where((df['GrAppv'] < 150000) & (df['ApprovalFY'] > 1993), 'Y', 'N')"
   ]
  },
  {
   "cell_type": "code",
   "execution_count": 29,
   "metadata": {},
   "outputs": [
    {
     "data": {
      "text/plain": [
       "0"
      ]
     },
     "execution_count": 29,
     "metadata": {},
     "output_type": "execute_result"
    }
   ],
   "source": [
    "df[\"LowDoc\"].isna().sum()"
   ]
  },
  {
   "cell_type": "code",
   "execution_count": 30,
   "metadata": {},
   "outputs": [
    {
     "data": {
      "text/plain": [
       "array(['Y', 'N'], dtype=object)"
      ]
     },
     "execution_count": 30,
     "metadata": {},
     "output_type": "execute_result"
    }
   ],
   "source": [
    "df[\"LowDoc\"].unique()"
   ]
  },
  {
   "cell_type": "markdown",
   "metadata": {},
   "source": [
    "# variable RevLineCr"
   ]
  },
  {
   "cell_type": "code",
   "execution_count": 31,
   "metadata": {},
   "outputs": [
    {
     "data": {
      "text/plain": [
       "array(['N', '0', 'Y', 'T', nan, '`', ',', '1', 'C', '3', '2', 'R', '7',\n",
       "       'A', '5', '.', '4', '-', 'Q'], dtype=object)"
      ]
     },
     "execution_count": 31,
     "metadata": {},
     "output_type": "execute_result"
    }
   ],
   "source": [
    "df[\"RevLineCr\"].unique()"
   ]
  },
  {
   "cell_type": "code",
   "execution_count": 32,
   "metadata": {},
   "outputs": [],
   "source": [
    "df.loc[(df[\"RevLineCr\"] != \"Y\") & (df[\"RevLineCr\"] != \"N\"), \"RevLineCr\"] = np.nan"
   ]
  },
  {
   "cell_type": "code",
   "execution_count": 33,
   "metadata": {},
   "outputs": [
    {
     "data": {
      "text/plain": [
       "(621685, 27)"
      ]
     },
     "execution_count": 33,
     "metadata": {},
     "output_type": "execute_result"
    }
   ],
   "source": [
    "df[(df[\"RevLineCr\"] == \"Y\") | (df[\"RevLineCr\"] == \"N\")].shape"
   ]
  },
  {
   "cell_type": "code",
   "execution_count": 34,
   "metadata": {},
   "outputs": [
    {
     "data": {
      "text/plain": [
       "State                0\n",
       "NAICS                0\n",
       "ApprovalFY           0\n",
       "Term                 0\n",
       "NoEmp                0\n",
       "NewExist             0\n",
       "CreateJob            0\n",
       "RetainedJob          0\n",
       "FranchiseCode        0\n",
       "UrbanRural           0\n",
       "LowDoc               0\n",
       "DisbursementGross    0\n",
       "MIS_Status           0\n",
       "GrAppv               0\n",
       "SBA_Appv             0\n",
       "dtype: int64"
      ]
     },
     "execution_count": 34,
     "metadata": {},
     "output_type": "execute_result"
    }
   ],
   "source": [
    "df.drop([\"LoanNr_ChkDgt\", \"Name\", \"City\", \"Zip\", \"Bank\", \"BankState\", \"ApprovalDate\", \"RevLineCr\", \"ChgOffDate\", \"DisbursementDate\", \"BalanceGross\", \"ChgOffPrinGr\"], axis=1, inplace=True)\n",
    "df.isna().sum()"
   ]
  },
  {
   "cell_type": "code",
   "execution_count": 35,
   "metadata": {},
   "outputs": [
    {
     "data": {
      "text/plain": [
       "State                 object\n",
       "NAICS                  int64\n",
       "ApprovalFY             int64\n",
       "Term                   int64\n",
       "NoEmp                  int64\n",
       "NewExist             float64\n",
       "CreateJob              int64\n",
       "RetainedJob            int64\n",
       "FranchiseCode          int64\n",
       "UrbanRural             int64\n",
       "LowDoc                object\n",
       "DisbursementGross    float64\n",
       "MIS_Status            object\n",
       "GrAppv               float64\n",
       "SBA_Appv             float64\n",
       "dtype: object"
      ]
     },
     "execution_count": 35,
     "metadata": {},
     "output_type": "execute_result"
    }
   ],
   "source": [
    "df.dtypes"
   ]
  },
  {
   "cell_type": "code",
   "execution_count": 36,
   "metadata": {},
   "outputs": [
    {
     "data": {
      "text/plain": [
       "Series([], Name: MIS_Status, dtype: object)"
      ]
     },
     "execution_count": 36,
     "metadata": {},
     "output_type": "execute_result"
    }
   ],
   "source": [
    "df.loc[df[\"MIS_Status\"] == \"P I F\", \"MIS_Status\"] = 1\n",
    "df.loc[df[\"MIS_Status\"] == \"P I F\", \"MIS_Status\"]"
   ]
  },
  {
   "cell_type": "code",
   "execution_count": 37,
   "metadata": {},
   "outputs": [
    {
     "data": {
      "text/plain": [
       "Series([], Name: MIS_Status, dtype: int64)"
      ]
     },
     "execution_count": 37,
     "metadata": {},
     "output_type": "execute_result"
    }
   ],
   "source": [
    "df.loc[df[\"MIS_Status\"] == \"CHGOFF\", \"MIS_Status\"] = 0\n",
    "df[\"MIS_Status\"] = df[\"MIS_Status\"].astype(int)\n",
    "df.loc[df[\"MIS_Status\"] == \"CHGOFF\", \"MIS_Status\"]\n"
   ]
  },
  {
   "cell_type": "code",
   "execution_count": 38,
   "metadata": {},
   "outputs": [
    {
     "data": {
      "text/html": [
       "<div>\n",
       "<style scoped>\n",
       "    .dataframe tbody tr th:only-of-type {\n",
       "        vertical-align: middle;\n",
       "    }\n",
       "\n",
       "    .dataframe tbody tr th {\n",
       "        vertical-align: top;\n",
       "    }\n",
       "\n",
       "    .dataframe thead th {\n",
       "        text-align: right;\n",
       "    }\n",
       "</style>\n",
       "<table border=\"1\" class=\"dataframe\">\n",
       "  <thead>\n",
       "    <tr style=\"text-align: right;\">\n",
       "      <th></th>\n",
       "      <th>State</th>\n",
       "      <th>NAICS</th>\n",
       "      <th>ApprovalFY</th>\n",
       "      <th>Term</th>\n",
       "      <th>NoEmp</th>\n",
       "      <th>NewExist</th>\n",
       "      <th>CreateJob</th>\n",
       "      <th>RetainedJob</th>\n",
       "      <th>FranchiseCode</th>\n",
       "      <th>UrbanRural</th>\n",
       "      <th>LowDoc</th>\n",
       "      <th>DisbursementGross</th>\n",
       "      <th>MIS_Status</th>\n",
       "      <th>GrAppv</th>\n",
       "      <th>SBA_Appv</th>\n",
       "    </tr>\n",
       "  </thead>\n",
       "  <tbody>\n",
       "    <tr>\n",
       "      <th>0</th>\n",
       "      <td>IN</td>\n",
       "      <td>451120</td>\n",
       "      <td>1997</td>\n",
       "      <td>84</td>\n",
       "      <td>4</td>\n",
       "      <td>2.0</td>\n",
       "      <td>0</td>\n",
       "      <td>0</td>\n",
       "      <td>1</td>\n",
       "      <td>0</td>\n",
       "      <td>Y</td>\n",
       "      <td>60000.0</td>\n",
       "      <td>1</td>\n",
       "      <td>60000.0</td>\n",
       "      <td>48000.0</td>\n",
       "    </tr>\n",
       "    <tr>\n",
       "      <th>1</th>\n",
       "      <td>IN</td>\n",
       "      <td>722410</td>\n",
       "      <td>1997</td>\n",
       "      <td>60</td>\n",
       "      <td>2</td>\n",
       "      <td>2.0</td>\n",
       "      <td>0</td>\n",
       "      <td>0</td>\n",
       "      <td>1</td>\n",
       "      <td>0</td>\n",
       "      <td>Y</td>\n",
       "      <td>40000.0</td>\n",
       "      <td>1</td>\n",
       "      <td>40000.0</td>\n",
       "      <td>32000.0</td>\n",
       "    </tr>\n",
       "    <tr>\n",
       "      <th>2</th>\n",
       "      <td>IN</td>\n",
       "      <td>621210</td>\n",
       "      <td>1997</td>\n",
       "      <td>180</td>\n",
       "      <td>7</td>\n",
       "      <td>1.0</td>\n",
       "      <td>0</td>\n",
       "      <td>0</td>\n",
       "      <td>1</td>\n",
       "      <td>0</td>\n",
       "      <td>N</td>\n",
       "      <td>287000.0</td>\n",
       "      <td>1</td>\n",
       "      <td>287000.0</td>\n",
       "      <td>215250.0</td>\n",
       "    </tr>\n",
       "    <tr>\n",
       "      <th>3</th>\n",
       "      <td>OK</td>\n",
       "      <td>0</td>\n",
       "      <td>1997</td>\n",
       "      <td>60</td>\n",
       "      <td>2</td>\n",
       "      <td>1.0</td>\n",
       "      <td>0</td>\n",
       "      <td>0</td>\n",
       "      <td>1</td>\n",
       "      <td>0</td>\n",
       "      <td>Y</td>\n",
       "      <td>35000.0</td>\n",
       "      <td>1</td>\n",
       "      <td>35000.0</td>\n",
       "      <td>28000.0</td>\n",
       "    </tr>\n",
       "    <tr>\n",
       "      <th>4</th>\n",
       "      <td>FL</td>\n",
       "      <td>0</td>\n",
       "      <td>1997</td>\n",
       "      <td>240</td>\n",
       "      <td>14</td>\n",
       "      <td>1.0</td>\n",
       "      <td>7</td>\n",
       "      <td>7</td>\n",
       "      <td>1</td>\n",
       "      <td>0</td>\n",
       "      <td>N</td>\n",
       "      <td>229000.0</td>\n",
       "      <td>1</td>\n",
       "      <td>229000.0</td>\n",
       "      <td>229000.0</td>\n",
       "    </tr>\n",
       "  </tbody>\n",
       "</table>\n",
       "</div>"
      ],
      "text/plain": [
       "  State   NAICS  ApprovalFY  Term  NoEmp  NewExist  CreateJob  RetainedJob  \\\n",
       "0    IN  451120        1997    84      4       2.0          0            0   \n",
       "1    IN  722410        1997    60      2       2.0          0            0   \n",
       "2    IN  621210        1997   180      7       1.0          0            0   \n",
       "3    OK       0        1997    60      2       1.0          0            0   \n",
       "4    FL       0        1997   240     14       1.0          7            7   \n",
       "\n",
       "   FranchiseCode  UrbanRural LowDoc  DisbursementGross  MIS_Status    GrAppv  \\\n",
       "0              1           0      Y            60000.0           1   60000.0   \n",
       "1              1           0      Y            40000.0           1   40000.0   \n",
       "2              1           0      N           287000.0           1  287000.0   \n",
       "3              1           0      Y            35000.0           1   35000.0   \n",
       "4              1           0      N           229000.0           1  229000.0   \n",
       "\n",
       "   SBA_Appv  \n",
       "0   48000.0  \n",
       "1   32000.0  \n",
       "2  215250.0  \n",
       "3   28000.0  \n",
       "4  229000.0  "
      ]
     },
     "execution_count": 38,
     "metadata": {},
     "output_type": "execute_result"
    }
   ],
   "source": [
    "df[\"MIS_Status\"].unique()\n",
    "df.head()"
   ]
  },
  {
   "cell_type": "code",
   "execution_count": 39,
   "metadata": {},
   "outputs": [
    {
     "data": {
      "text/plain": [
       "State                0\n",
       "NAICS                0\n",
       "ApprovalFY           0\n",
       "Term                 0\n",
       "NoEmp                0\n",
       "NewExist             0\n",
       "CreateJob            0\n",
       "RetainedJob          0\n",
       "FranchiseCode        0\n",
       "UrbanRural           0\n",
       "LowDoc               0\n",
       "DisbursementGross    0\n",
       "MIS_Status           0\n",
       "GrAppv               0\n",
       "SBA_Appv             0\n",
       "dtype: int64"
      ]
     },
     "execution_count": 39,
     "metadata": {},
     "output_type": "execute_result"
    }
   ],
   "source": [
    "df.isna().sum()"
   ]
  },
  {
   "cell_type": "code",
   "execution_count": 40,
   "metadata": {},
   "outputs": [
    {
     "data": {
      "text/plain": [
       "State                 object\n",
       "NAICS                  int64\n",
       "ApprovalFY             int64\n",
       "Term                   int64\n",
       "NoEmp                  int64\n",
       "NewExist             float64\n",
       "CreateJob              int64\n",
       "RetainedJob            int64\n",
       "FranchiseCode          int64\n",
       "UrbanRural             int64\n",
       "LowDoc                object\n",
       "DisbursementGross    float64\n",
       "MIS_Status             int64\n",
       "GrAppv               float64\n",
       "SBA_Appv             float64\n",
       "dtype: object"
      ]
     },
     "execution_count": 40,
     "metadata": {},
     "output_type": "execute_result"
    }
   ],
   "source": [
    "df.dtypes"
   ]
  },
  {
   "cell_type": "code",
   "execution_count": 41,
   "metadata": {},
   "outputs": [
    {
     "name": "stdout",
     "output_type": "stream",
     "text": [
      "Index(['State', 'NAICS', 'ApprovalFY', 'Term', 'NoEmp', 'NewExist',\n",
      "       'CreateJob', 'RetainedJob', 'FranchiseCode', 'UrbanRural', 'LowDoc',\n",
      "       'DisbursementGross', 'MIS_Status', 'GrAppv', 'SBA_Appv'],\n",
      "      dtype='object')\n"
     ]
    }
   ],
   "source": [
    "print(df.columns)  # Affiche toutes les colonnes présentes dans le DataFrame\n"
   ]
  },
  {
   "cell_type": "markdown",
   "metadata": {},
   "source": [
    "# State"
   ]
  },
  {
   "cell_type": "markdown",
   "metadata": {},
   "source": [
    "# LowDoc"
   ]
  },
  {
   "cell_type": "code",
   "execution_count": 42,
   "metadata": {},
   "outputs": [
    {
     "name": "stdout",
     "output_type": "stream",
     "text": [
      "LowDoc\n",
      "1    529934\n",
      "0    369230\n",
      "Name: count, dtype: int64\n"
     ]
    }
   ],
   "source": [
    "# Transformation de la colonne LowDoc\n",
    "df['LowDoc'] = df['LowDoc'].map({'Y': 1, 'N': 0})\n",
    "\n",
    "# Vérification du résultat\n",
    "print(df['LowDoc'].value_counts())\n"
   ]
  },
  {
   "cell_type": "code",
   "execution_count": 43,
   "metadata": {},
   "outputs": [
    {
     "data": {
      "text/plain": [
       "State                 object\n",
       "NAICS                  int64\n",
       "ApprovalFY             int64\n",
       "Term                   int64\n",
       "NoEmp                  int64\n",
       "NewExist             float64\n",
       "CreateJob              int64\n",
       "RetainedJob            int64\n",
       "FranchiseCode          int64\n",
       "UrbanRural             int64\n",
       "LowDoc                 int64\n",
       "DisbursementGross    float64\n",
       "MIS_Status             int64\n",
       "GrAppv               float64\n",
       "SBA_Appv             float64\n",
       "dtype: object"
      ]
     },
     "execution_count": 43,
     "metadata": {},
     "output_type": "execute_result"
    }
   ],
   "source": [
    "df.dtypes"
   ]
  },
  {
   "cell_type": "code",
   "execution_count": 44,
   "metadata": {},
   "outputs": [
    {
     "name": "stdout",
     "output_type": "stream",
     "text": [
      "State\n",
      "15    130622\n",
      "8      70462\n",
      "22     57693\n",
      "2      41213\n",
      "24     35170\n",
      "19     32622\n",
      "6      29669\n",
      "14     25272\n",
      "12     24373\n",
      "4      24036\n",
      "30     23263\n",
      "42     22277\n",
      "40     21042\n",
      "13     20679\n",
      "31     20605\n",
      "28     20545\n",
      "34     18777\n",
      "38     17631\n",
      "5      14294\n",
      "0      14132\n",
      "23     13269\n",
      "9      13264\n",
      "3      12229\n",
      "35     12109\n",
      "18     11996\n",
      "27     11465\n",
      "25     11051\n",
      "1       9950\n",
      "17      9576\n",
      "37      9498\n",
      "10      9403\n",
      "7       9028\n",
      "32      8749\n",
      "45      8362\n",
      "39      8024\n",
      "20      7723\n",
      "21      7686\n",
      "46      6386\n",
      "11      6341\n",
      "41      6033\n",
      "26      5944\n",
      "16      5597\n",
      "44      5454\n",
      "43      5245\n",
      "47      4431\n",
      "48      3610\n",
      "36      3287\n",
      "33      2839\n",
      "29      2405\n",
      "49      2220\n",
      "50      1613\n",
      "Name: count, dtype: int64\n"
     ]
    }
   ],
   "source": [
    "# Transformation de la colonne LowDoc\n",
    "df['State'] = df['State'].map({'IN': 0, 'OK': 1, 'FL': 2, 'CT': 3, 'NJ': 4, 'NC': 5, 'IL': 6, 'RI': 7, 'TX': 8, 'VA': 9, 'TN': 10, \n",
    "              'AR': 11, 'MN': 12, 'MO': 13, 'MA': 14, 'CA': 15, 'SC': 16, 'LA': 17, 'IA': 18, 'OH': 19, 'KY': 20, 'MS': 21, \n",
    "              'NY': 22, 'MD': 23, 'PA': 24, 'OR': 25, 'ME': 26, 'KS': 27, 'MI': 28, 'AK': 29, 'WA': 30, 'CO': 31, 'MT': 32, \n",
    "              'WY': 33, 'UT': 34, 'NH': 35, 'WV': 36, 'ID': 37, 'AZ': 38, 'NV': 39, 'WI': 40, 'NM': 41, 'GA': 42, 'ND': 43, \n",
    "              'VT': 44, 'AL': 45, 'NE': 46, 'SD': 47, 'HI': 48, 'DE': 49, 'DC': 50})\n",
    "\n",
    "# Vérification du résultat\n",
    "print(df['State'].value_counts())\n"
   ]
  },
  {
   "cell_type": "code",
   "execution_count": 45,
   "metadata": {},
   "outputs": [
    {
     "data": {
      "text/plain": [
       "State                  int64\n",
       "NAICS                  int64\n",
       "ApprovalFY             int64\n",
       "Term                   int64\n",
       "NoEmp                  int64\n",
       "NewExist             float64\n",
       "CreateJob              int64\n",
       "RetainedJob            int64\n",
       "FranchiseCode          int64\n",
       "UrbanRural             int64\n",
       "LowDoc                 int64\n",
       "DisbursementGross    float64\n",
       "MIS_Status             int64\n",
       "GrAppv               float64\n",
       "SBA_Appv             float64\n",
       "dtype: object"
      ]
     },
     "execution_count": 45,
     "metadata": {},
     "output_type": "execute_result"
    }
   ],
   "source": [
    "df.dtypes"
   ]
  },
  {
   "cell_type": "code",
   "execution_count": 46,
   "metadata": {},
   "outputs": [
    {
     "data": {
      "image/png": "[encoded data removed]",
      "text/plain": [
       "<Figure size 1200x800 with 2 Axes>"
      ]
     },
     "metadata": {},
     "output_type": "display_data"
    }
   ],
   "source": [
    "\n",
    "# Importation des bibliothèques nécessaires\n",
    "import seaborn as sns\n",
    "import matplotlib.pyplot as plt\n",
    "\n",
    "# Calcul de la matrice de corrélation\n",
    "correlation_matrix = df.corr()\n",
    "\n",
    "# Affichage de la heatmap\n",
    "plt.figure(figsize=(12, 8))\n",
    "sns.heatmap(correlation_matrix, annot=True, cmap=\"coolwarm\", fmt=\".2f\", linewidths=0.5)\n",
    "plt.title(\"Heatmap de corrélation entre les variables numériques\")\n",
    "plt.show()\n"
   ]
  },
  {
   "cell_type": "code",
   "execution_count": 47,
   "metadata": {},
   "outputs": [
    {
     "data": {
      "text/html": [
       "<div>\n",
       "<style scoped>\n",
       "    .dataframe tbody tr th:only-of-type {\n",
       "        vertical-align: middle;\n",
       "    }\n",
       "\n",
       "    .dataframe tbody tr th {\n",
       "        vertical-align: top;\n",
       "    }\n",
       "\n",
       "    .dataframe thead th {\n",
       "        text-align: right;\n",
       "    }\n",
       "</style>\n",
       "<table border=\"1\" class=\"dataframe\">\n",
       "  <thead>\n",
       "    <tr style=\"text-align: right;\">\n",
       "      <th></th>\n",
       "      <th>State</th>\n",
       "      <th>NAICS</th>\n",
       "      <th>ApprovalFY</th>\n",
       "      <th>Term</th>\n",
       "      <th>NoEmp</th>\n",
       "      <th>NewExist</th>\n",
       "      <th>CreateJob</th>\n",
       "      <th>RetainedJob</th>\n",
       "      <th>FranchiseCode</th>\n",
       "      <th>UrbanRural</th>\n",
       "      <th>LowDoc</th>\n",
       "      <th>DisbursementGross</th>\n",
       "      <th>MIS_Status</th>\n",
       "      <th>GrAppv</th>\n",
       "      <th>SBA_Appv</th>\n",
       "    </tr>\n",
       "  </thead>\n",
       "  <tbody>\n",
       "    <tr>\n",
       "      <th>count</th>\n",
       "      <td>899164.000000</td>\n",
       "      <td>899164.000000</td>\n",
       "      <td>899164.000000</td>\n",
       "      <td>899164.000000</td>\n",
       "      <td>899164.000000</td>\n",
       "      <td>899164.000000</td>\n",
       "      <td>899164.000000</td>\n",
       "      <td>899164.000000</td>\n",
       "      <td>899164.000000</td>\n",
       "      <td>899164.000000</td>\n",
       "      <td>899164.000000</td>\n",
       "      <td>8.991640e+05</td>\n",
       "      <td>899164.000000</td>\n",
       "      <td>8.991640e+05</td>\n",
       "      <td>8.991640e+05</td>\n",
       "    </tr>\n",
       "    <tr>\n",
       "      <th>mean</th>\n",
       "      <td>19.377361</td>\n",
       "      <td>398660.950146</td>\n",
       "      <td>2001.143560</td>\n",
       "      <td>110.773078</td>\n",
       "      <td>11.411353</td>\n",
       "      <td>1.281511</td>\n",
       "      <td>8.430376</td>\n",
       "      <td>10.797257</td>\n",
       "      <td>2753.725933</td>\n",
       "      <td>0.757748</td>\n",
       "      <td>0.589363</td>\n",
       "      <td>2.011540e+05</td>\n",
       "      <td>0.824483</td>\n",
       "      <td>1.926870e+05</td>\n",
       "      <td>1.494888e+05</td>\n",
       "    </tr>\n",
       "    <tr>\n",
       "      <th>std</th>\n",
       "      <td>12.390497</td>\n",
       "      <td>263318.312760</td>\n",
       "      <td>5.913846</td>\n",
       "      <td>78.857305</td>\n",
       "      <td>74.108196</td>\n",
       "      <td>0.449737</td>\n",
       "      <td>236.688165</td>\n",
       "      <td>237.120600</td>\n",
       "      <td>12758.019136</td>\n",
       "      <td>0.646436</td>\n",
       "      <td>0.491950</td>\n",
       "      <td>2.876408e+05</td>\n",
       "      <td>0.380409</td>\n",
       "      <td>2.832634e+05</td>\n",
       "      <td>2.284146e+05</td>\n",
       "    </tr>\n",
       "    <tr>\n",
       "      <th>min</th>\n",
       "      <td>0.000000</td>\n",
       "      <td>0.000000</td>\n",
       "      <td>1962.000000</td>\n",
       "      <td>0.000000</td>\n",
       "      <td>0.000000</td>\n",
       "      <td>1.000000</td>\n",
       "      <td>0.000000</td>\n",
       "      <td>0.000000</td>\n",
       "      <td>0.000000</td>\n",
       "      <td>0.000000</td>\n",
       "      <td>0.000000</td>\n",
       "      <td>0.000000e+00</td>\n",
       "      <td>0.000000</td>\n",
       "      <td>2.000000e+02</td>\n",
       "      <td>1.000000e+02</td>\n",
       "    </tr>\n",
       "    <tr>\n",
       "      <th>25%</th>\n",
       "      <td>8.000000</td>\n",
       "      <td>235210.000000</td>\n",
       "      <td>1997.000000</td>\n",
       "      <td>60.000000</td>\n",
       "      <td>2.000000</td>\n",
       "      <td>1.000000</td>\n",
       "      <td>0.000000</td>\n",
       "      <td>0.000000</td>\n",
       "      <td>1.000000</td>\n",
       "      <td>0.000000</td>\n",
       "      <td>0.000000</td>\n",
       "      <td>4.200000e+04</td>\n",
       "      <td>1.000000</td>\n",
       "      <td>3.500000e+04</td>\n",
       "      <td>2.125000e+04</td>\n",
       "    </tr>\n",
       "    <tr>\n",
       "      <th>50%</th>\n",
       "      <td>15.000000</td>\n",
       "      <td>445310.000000</td>\n",
       "      <td>2002.000000</td>\n",
       "      <td>84.000000</td>\n",
       "      <td>4.000000</td>\n",
       "      <td>1.000000</td>\n",
       "      <td>0.000000</td>\n",
       "      <td>1.000000</td>\n",
       "      <td>1.000000</td>\n",
       "      <td>1.000000</td>\n",
       "      <td>1.000000</td>\n",
       "      <td>1.000000e+05</td>\n",
       "      <td>1.000000</td>\n",
       "      <td>9.000000e+04</td>\n",
       "      <td>6.125000e+04</td>\n",
       "    </tr>\n",
       "    <tr>\n",
       "      <th>75%</th>\n",
       "      <td>28.000000</td>\n",
       "      <td>561730.000000</td>\n",
       "      <td>2006.000000</td>\n",
       "      <td>120.000000</td>\n",
       "      <td>10.000000</td>\n",
       "      <td>2.000000</td>\n",
       "      <td>1.000000</td>\n",
       "      <td>4.000000</td>\n",
       "      <td>1.000000</td>\n",
       "      <td>1.000000</td>\n",
       "      <td>1.000000</td>\n",
       "      <td>2.380000e+05</td>\n",
       "      <td>1.000000</td>\n",
       "      <td>2.250000e+05</td>\n",
       "      <td>1.750000e+05</td>\n",
       "    </tr>\n",
       "    <tr>\n",
       "      <th>max</th>\n",
       "      <td>50.000000</td>\n",
       "      <td>928120.000000</td>\n",
       "      <td>2014.000000</td>\n",
       "      <td>569.000000</td>\n",
       "      <td>9999.000000</td>\n",
       "      <td>2.000000</td>\n",
       "      <td>8800.000000</td>\n",
       "      <td>9500.000000</td>\n",
       "      <td>99999.000000</td>\n",
       "      <td>2.000000</td>\n",
       "      <td>1.000000</td>\n",
       "      <td>1.144632e+07</td>\n",
       "      <td>1.000000</td>\n",
       "      <td>5.472000e+06</td>\n",
       "      <td>5.472000e+06</td>\n",
       "    </tr>\n",
       "  </tbody>\n",
       "</table>\n",
       "</div>"
      ],
      "text/plain": [
       "               State          NAICS     ApprovalFY           Term  \\\n",
       "count  899164.000000  899164.000000  899164.000000  899164.000000   \n",
       "mean       19.377361  398660.950146    2001.143560     110.773078   \n",
       "std        12.390497  263318.312760       5.913846      78.857305   \n",
       "min         0.000000       0.000000    1962.000000       0.000000   \n",
       "25%         8.000000  235210.000000    1997.000000      60.000000   \n",
       "50%        15.000000  445310.000000    2002.000000      84.000000   \n",
       "75%        28.000000  561730.000000    2006.000000     120.000000   \n",
       "max        50.000000  928120.000000    2014.000000     569.000000   \n",
       "\n",
       "               NoEmp       NewExist      CreateJob    RetainedJob  \\\n",
       "count  899164.000000  899164.000000  899164.000000  899164.000000   \n",
       "mean       11.411353       1.281511       8.430376      10.797257   \n",
       "std        74.108196       0.449737     236.688165     237.120600   \n",
       "min         0.000000       1.000000       0.000000       0.000000   \n",
       "25%         2.000000       1.000000       0.000000       0.000000   \n",
       "50%         4.000000       1.000000       0.000000       1.000000   \n",
       "75%        10.000000       2.000000       1.000000       4.000000   \n",
       "max      9999.000000       2.000000    8800.000000    9500.000000   \n",
       "\n",
       "       FranchiseCode     UrbanRural         LowDoc  DisbursementGross  \\\n",
       "count  899164.000000  899164.000000  899164.000000       8.991640e+05   \n",
       "mean     2753.725933       0.757748       0.589363       2.011540e+05   \n",
       "std     12758.019136       0.646436       0.491950       2.876408e+05   \n",
       "min         0.000000       0.000000       0.000000       0.000000e+00   \n",
       "25%         1.000000       0.000000       0.000000       4.200000e+04   \n",
       "50%         1.000000       1.000000       1.000000       1.000000e+05   \n",
       "75%         1.000000       1.000000       1.000000       2.380000e+05   \n",
       "max     99999.000000       2.000000       1.000000       1.144632e+07   \n",
       "\n",
       "          MIS_Status        GrAppv      SBA_Appv  \n",
       "count  899164.000000  8.991640e+05  8.991640e+05  \n",
       "mean        0.824483  1.926870e+05  1.494888e+05  \n",
       "std         0.380409  2.832634e+05  2.284146e+05  \n",
       "min         0.000000  2.000000e+02  1.000000e+02  \n",
       "25%         1.000000  3.500000e+04  2.125000e+04  \n",
       "50%         1.000000  9.000000e+04  6.125000e+04  \n",
       "75%         1.000000  2.250000e+05  1.750000e+05  \n",
       "max         1.000000  5.472000e+06  5.472000e+06  "
      ]
     },
     "execution_count": 47,
     "metadata": {},
     "output_type": "execute_result"
    }
   ],
   "source": [
    "# Analyse statistique descriptive\n",
    "df.describe()"
   ]
  },
  {
   "cell_type": "code",
   "execution_count": 48,
   "metadata": {},
   "outputs": [],
   "source": [
    "# Enregistrer le DataFrame nettoyé dans un fichier CSV\n",
    "df.to_csv('donnees_nettoyees.csv', index=False)\n"
   ]
  }
 ],
 "metadata": {
  "kernelspec": {
   "display_name": ".venv",
   "language": "python",
   "name": "python3"
  },
  "language_info": {
   "codemirror_mode": {
    "name": "ipython",
    "version": 3
   },
   "file_extension": ".py",
   "mimetype": "text/x-python",
   "name": "python",
   "nbconvert_exporter": "python",
   "pygments_lexer": "ipython3",
   "version": "3.11.11"
  }
 },
 "nbformat": 4,
 "nbformat_minor": 2
}
